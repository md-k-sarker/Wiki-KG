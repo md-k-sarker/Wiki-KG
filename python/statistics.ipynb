{
 "cells": [
  {
   "cell_type": "code",
   "execution_count": 1,
   "metadata": {},
   "outputs": [],
   "source": [
    "import pandas as pd\n",
    "import numpy as np"
   ]
  },
  {
   "cell_type": "code",
   "execution_count": 2,
   "metadata": {},
   "outputs": [],
   "source": [
    "indiv_csv = './data/indivs_mapped_v1.csv'\n",
    "concept_csv = './data/concepts_mapped_v1.csv'"
   ]
  },
  {
   "cell_type": "code",
   "execution_count": 29,
   "metadata": {},
   "outputs": [
    {
     "data": {
      "text/plain": [
       "42500"
      ]
     },
     "execution_count": 29,
     "metadata": {},
     "output_type": "execute_result"
    }
   ],
   "source": [
    "df_indiv = pd.read_csv(indiv_csv).dropna()\n",
    "len(set(df_indiv['wikiTypes']))"
   ]
  },
  {
   "cell_type": "code",
   "execution_count": 30,
   "metadata": {},
   "outputs": [],
   "source": [
    "# any match in indiv types\n",
    "for indiv,sumoTypes,wikiTypes in zip(df_indiv['indiv'],df_indiv['sumoTypes'],df_indiv['wikiTypes']):\n",
    "    if sumoTypes and wikiTypes:\n",
    "        s_types = [s for s in sumoTypes.split(';') if len(s)>1]\n",
    "        w_types = [s for s in wikiTypes.split(';') if len(s)>1]\n",
    "        if (set(s_types) & set(w_types)):\n",
    "            print(indiv,s_types, w_types)"
   ]
  },
  {
   "cell_type": "code",
   "execution_count": 19,
   "metadata": {},
   "outputs": [],
   "source": [
    "df_concept = pd.read_csv(concept_csv).dropna()"
   ]
  },
  {
   "cell_type": "code",
   "execution_count": 23,
   "metadata": {},
   "outputs": [
    {
     "name": "stdout",
     "output_type": "stream",
     "text": [
      "['Soil'] ['Building_materials', 'Soil', 'Sediments']\n",
      "['Meat'] ['Meat']\n",
      "['Perception'] ['Perception', 'Audiology']\n",
      "['Livestock', 'DomesticAnimal', 'HoofedMammal'] ['Livestock']\n",
      "['Combustion'] ['Hazards', 'Combustion']\n",
      "['Livestock', 'HoofedMammal'] ['Livestock']\n",
      "['Hunting'] ['Hunting']\n"
     ]
    }
   ],
   "source": [
    "# any match in concept hierarchy\n",
    "for concept,sumoTypes,wikiTypes in zip(df_concept['concept'],df_concept['sumoTypes'],df_concept['wikiTypes']):\n",
    "    if sumoTypes and wikiTypes:\n",
    "        s_types = [s for s in sumoTypes.split(';') if len(s)>1]\n",
    "        w_types = [s for s in wikiTypes.split(';') if len(s)>1]\n",
    "        if (set(s_types) & set(w_types)):\n",
    "            print(s_types, w_types)"
   ]
  }
 ],
 "metadata": {
  "kernelspec": {
   "display_name": "Python 3",
   "language": "python",
   "name": "python3"
  },
  "language_info": {
   "codemirror_mode": {
    "name": "ipython",
    "version": 3
   },
   "file_extension": ".py",
   "mimetype": "text/x-python",
   "name": "python",
   "nbconvert_exporter": "python",
   "pygments_lexer": "ipython3",
   "version": "3.6.10"
  }
 },
 "nbformat": 4,
 "nbformat_minor": 2
}
